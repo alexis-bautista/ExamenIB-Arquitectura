{
 "cells": [
  {
   "cell_type": "markdown",
   "metadata": {
    "editable": true,
    "slideshow": {
     "slide_type": "slide"
    },
    "tags": []
   },
   "source": [
    "# EXAMEN IB ARQUITECTURA DE COMPUTADORES\n",
    "\n",
    "## Programa en Python para pasar un numero decima a coma flotante IEEE de 32 bits\n",
    "\n",
    "**Nombre:** Alexis Bautista \n",
    "\n",
    "**Fecha de Presentacion:** 18 de junio de 2023"
   ]
  },
  {
   "cell_type": "markdown",
   "metadata": {
    "editable": true,
    "slideshow": {
     "slide_type": "slide"
    },
    "tags": []
   },
   "source": [
    "* Pedir al usuario que ingrese un numero por teclado"
   ]
  },
  {
   "cell_type": "code",
   "execution_count": 4,
   "metadata": {
    "editable": true,
    "slideshow": {
     "slide_type": "subslide"
    },
    "tags": []
   },
   "outputs": [
    {
     "name": "stdin",
     "output_type": "stream",
     "text": [
      "Ingrese un numero decimal:  -48.75\n"
     ]
    },
    {
     "name": "stdout",
     "output_type": "stream",
     "text": [
      "El numero decimal es:  -48.75\n"
     ]
    }
   ],
   "source": [
    "numeroDecimal = float(input(\"Ingrese un numero decimal: \"))\n",
    "print(\"El numero decimal es: \", numeroDecimal)"
   ]
  },
  {
   "cell_type": "markdown",
   "metadata": {
    "editable": true,
    "slideshow": {
     "slide_type": "slide"
    },
    "tags": []
   },
   "source": [
    "- Verificar si un numero es positivo o negativo, y separar el bit del signo"
   ]
  },
  {
   "cell_type": "code",
   "execution_count": 5,
   "metadata": {
    "editable": true,
    "slideshow": {
     "slide_type": "subslide"
    },
    "tags": []
   },
   "outputs": [
    {
     "name": "stdout",
     "output_type": "stream",
     "text": [
      "El numero decimal es negativo y el bit del signo es 1\n"
     ]
    }
   ],
   "source": [
    "if numeroDecimal > 0:\n",
    "    signo = 0\n",
    "    print(\"El numero decimal es positivo y el bit del signo es\", signo)\n",
    "else:\n",
    "    signo = 1\n",
    "    print(\"El numero decimal es negativo y el bit del signo es\", signo)"
   ]
  },
  {
   "cell_type": "markdown",
   "metadata": {
    "editable": true,
    "slideshow": {
     "slide_type": "slide"
    },
    "tags": []
   },
   "source": [
    "- Funcion para transformar un decimal a binario \n",
    "- Normalizar Binario\n",
    "- Calcular Sesgo\n",
    "- Calcular Mantisa"
   ]
  },
  {
   "cell_type": "code",
   "execution_count": 9,
   "metadata": {
    "editable": true,
    "slideshow": {
     "slide_type": "subslide"
    },
    "tags": []
   },
   "outputs": [],
   "source": [
    "def decimalABinario(numeroDecimal):\n",
    "    parteEntera = int(numeroDecimal)\n",
    "    parteFraccional = numeroDecimal - parteEntera\n",
    "\n",
    "    # Convertir la parte entera a binaria\n",
    "    binarioEntero = ''\n",
    "    while parteEntera > 0:\n",
    "        resto = parteEntera % 2\n",
    "        binarioEntero = str(resto) + binarioEntero\n",
    "        parteEntera = parteEntera // 2\n",
    "\n",
    "    # Convertir la parte fraccional a binaria\n",
    "    binarioFraccional = ''\n",
    "    while parteFraccional != 0:\n",
    "        parteFraccional *= 2\n",
    "        bit = int(parteFraccional)\n",
    "        binarioFraccional += str(bit)\n",
    "        parteFraccional -= bit\n",
    "        \n",
    "        #binarioFraccional = binarioFraccional[:8] #descomentar para mejor estetica\n",
    "\n",
    "    print(\"La parte entera en binario es\", binarioEntero, \"\\nLa parte fraccionaria en binario es\", binarioFraccional)\n",
    "    binario = binarioEntero + '.' + binarioFraccional\n",
    "    print(\"El numero decimal es\", binario)\n",
    "\n",
    "    #normalizar binario \n",
    "    exponente = len(binarioEntero) - 1\n",
    "    mantisa = binarioEntero[1:] + binarioFraccional\n",
    "    normalizado = '1.' + mantisa + ' x 2^' + str(exponente)\n",
    "    print(\"La notación científica es:\", normalizado)\n",
    "    \n",
    "    #calcular sesgo \n",
    "    sesgo = 127 + exponente\n",
    "    print(\"El sesgo es: \", sesgo)\n",
    "    sesgoABinario = bin(sesgo)[2:].zfill(8)\n",
    "    print(\"El sesgo en binario es\", sesgoABinario)\n",
    "\n",
    "    #calcular mantisa\n",
    "    mantisa = mantisa + '0' * (23 - len(mantisa))\n",
    "    print(\"La mantisa es\", mantisa)\n",
    "\n",
    "    #Representacion en coma flotante IEEE32\n",
    "    print(\"\\n La representacion en coma flotante es: \", signo , \"|\", sesgoABinario, \"|\", mantisa)\n",
    "\n",
    "    # transformar a hexadecimal\n",
    "    ieee32 = str(signo) + sesgoABinario + mantisa\n",
    "    entero = int(ieee32, 2) \n",
    "    hex_ieee32 = hex(entero)[2:].zfill(8)\n",
    "    print(\"La representación en hexadecimal es:\", hex_ieee32)\n"
   ]
  },
  {
   "cell_type": "markdown",
   "metadata": {
    "editable": true,
    "slideshow": {
     "slide_type": "slide"
    },
    "tags": []
   },
   "source": [
    "* Llamar a la funcion"
   ]
  },
  {
   "cell_type": "code",
   "execution_count": 10,
   "metadata": {
    "editable": true,
    "slideshow": {
     "slide_type": "subslide"
    },
    "tags": []
   },
   "outputs": [
    {
     "name": "stdout",
     "output_type": "stream",
     "text": [
      "La parte entera en binario es 110000 \n",
      "La parte fraccionaria en binario es 11\n",
      "El numero decimal es 110000.11\n",
      "La notación científica es: 1.1000011 x 2^5\n",
      "El sesgo es:  132\n",
      "El sesgo en binario es 10000100\n",
      "La mantisa es 10000110000000000000000\n",
      "\n",
      " La representacion en coma flotante es:  1 | 10000100 | 10000110000000000000000\n",
      "La representación en hexadecimal es: c2430000\n",
      "None\n"
     ]
    }
   ],
   "source": [
    "if signo == 1:\n",
    "    numeroDecimal = numeroDecimal * - 1\n",
    "    print(decimalABinario(numeroDecimal))\n",
    "else:\n",
    "    print(decimalABinario(numeroDecimal))"
   ]
  },
  {
   "cell_type": "code",
   "execution_count": null,
   "metadata": {},
   "outputs": [],
   "source": []
  }
 ],
 "metadata": {
  "kernelspec": {
   "display_name": "Python 3 (ipykernel)",
   "language": "python",
   "name": "python3"
  },
  "language_info": {
   "codemirror_mode": {
    "name": "ipython",
    "version": 3
   },
   "file_extension": ".py",
   "mimetype": "text/x-python",
   "name": "python",
   "nbconvert_exporter": "python",
   "pygments_lexer": "ipython3",
   "version": "3.12.3"
  }
 },
 "nbformat": 4,
 "nbformat_minor": 4
}
